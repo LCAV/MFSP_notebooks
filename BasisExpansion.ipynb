{
 "cells": [
  {
   "cell_type": "code",
   "execution_count": null,
   "metadata": {},
   "outputs": [],
   "source": [
    "import numpy as np\n",
    "import matplotlib.pyplot as plt\n",
    "from mpl_toolkits.axes_grid1.axes_divider import make_axes_locatable"
   ]
  },
  {
   "cell_type": "markdown",
   "metadata": {},
   "source": [
    "# Orthogonalisation and dual bases\n",
    "\n",
    "In this notebook you implement functions to find orthogonal and bi-orthogonal bases and apply them to different spaces. You will see how orthogonal bases let you easily write function in terms of basis coefficients.\n",
    "\n",
    "First, fill the functions below. If it is too much, you can fill in just `dual_basis` and `_orthogonalisation` of your choice.\n",
    "\n",
    "You might want to use `np.linalg.cholesky`, `np.linalg.eig` and `np.linalg.qr`."
   ]
  },
  {
   "cell_type": "code",
   "execution_count": null,
   "metadata": {},
   "outputs": [],
   "source": [
    "def dual_basis(Phi, step_size):\n",
    "    \"\"\"Returns a basis dual to given basis Phi, calcualted using the inverse of the Gram matrix\"\"\"\n",
    "    \n",
    "    return \n",
    "\n",
    "\n",
    "def cholesky_orthogonalisation(Phi, step_size):\n",
    "    \"\"\"Return an orthogonal basis of the space spanned by Phi, calculated using Cholesky decomposion. \"\"\"\n",
    "    \n",
    "    return \n",
    "\n",
    "\n",
    "def gram_schmit_orthogonalisation(Phi, step_size):\n",
    "    \"\"\"Return an orthogonal basis of the space spanned by Phi, calculated using QR decomposion. \"\"\"\n",
    "    \n",
    "    return \n",
    "\n",
    "\n",
    "def symmetric_orthogonalization(Phi, step_size):\n",
    "    \"\"\"Return an orthogonal basis of the space spanned by Phi, calculated using eigenvalue decomposion. \"\"\"\n",
    "    \n",
    "    \n",
    "    return "
   ]
  },
  {
   "cell_type": "markdown",
   "metadata": {},
   "source": [
    "We have implemented for you most of the plotting function below, that should help you check if what you have implemented is correct."
   ]
  },
  {
   "cell_type": "code",
   "execution_count": null,
   "metadata": {},
   "outputs": [],
   "source": [
    "def plot_bases(t, primal_basis, dual_basis, x):\n",
    "    \"\"\"Plot both primal and dual basis, Gram matrix\n",
    "    and signal x togheter with its reconstruction from basis coefficients\"\"\"\n",
    "    \n",
    "    step_size = (np.max(t)-np.min(t)) / t.size\n",
    "    \n",
    "    primal_coeffs = step_size * (dual_basis.transpose() @ x)\n",
    "    x_estimate = primal_basis @ primal_coeffs\n",
    "    Gram = step_size * dual_basis.transpose() @ primal_basis\n",
    "\n",
    "    fig, (ax1, ax2, ax3, ax4) = plt.subplots(1, 4, figsize=(15, 3))\n",
    "\n",
    "    for k in range(dimension):\n",
    "        ax1.plot(t, primal_basis[:, k], label=f\"$\\\\psi_{k}$\")\n",
    "    ax1.legend()\n",
    "    ax1.set_title(\"Primal basis\")\n",
    "\n",
    "    for k in range(dimension):\n",
    "        ax2.plot(t, dual_basis[:, k], label=f\"$\\\\psi_{k}$\")\n",
    "    ax2.legend()\n",
    "    ax2.set_title(\"Dual basis\")\n",
    "\n",
    "    im = ax3.imshow(Gram)\n",
    "    ax_divider = make_axes_locatable(ax3)\n",
    "    # add an axes to the right of the main axes.\n",
    "    cax = ax_divider.append_axes(\"bottom\", size=\"7%\", pad=\"2%\")\n",
    "    fig.colorbar(im, cax=cax, orientation=\"horizontal\")\n",
    "    ax3.set_title(\"Gramian\")\n",
    "\n",
    "    ax4.plot(t, x, label=\"$x$\")\n",
    "    ax4.plot(t, x_estimate, label=\"$\\\\tilde x$\")\n",
    "    ax4.legend()\n",
    "    ax4.set_title(\"Singal reconstrution\")\n",
    "\n",
    "    plt.show()"
   ]
  },
  {
   "cell_type": "markdown",
   "metadata": {},
   "source": [
    "Below we generate for you the discretised times `t`, an example polynomial basis `Phi` and a random signal `x`. "
   ]
  },
  {
   "cell_type": "code",
   "execution_count": null,
   "metadata": {},
   "outputs": [],
   "source": [
    "t = np.linspace(-1, 1, 900)\n",
    "step_size = (np.max(t)-np.min(t)) / t.size\n",
    "\n",
    "dimension = 4\n",
    "\n",
    "Phi = np.stack([t**k for k in range(dimension)], axis=-1)\n",
    "\n",
    "x = Phi @ (2*np.random.random(dimension)-1)"
   ]
  },
  {
   "cell_type": "markdown",
   "metadata": {},
   "source": [
    "We begin with checking that the basis `Phi` is not orthogonal, it is not dual to itself."
   ]
  },
  {
   "cell_type": "code",
   "execution_count": null,
   "metadata": {
    "scrolled": false
   },
   "outputs": [],
   "source": [
    "plot_bases(t, Phi, Phi)"
   ]
  },
  {
   "cell_type": "markdown",
   "metadata": {},
   "source": [
    "Now, plot `Phi` and it's dual (and check if it indeed is dual!)"
   ]
  },
  {
   "cell_type": "code",
   "execution_count": null,
   "metadata": {},
   "outputs": [],
   "source": []
  },
  {
   "cell_type": "markdown",
   "metadata": {},
   "source": [
    "And plot some ortogonal bases of the sub-space defined by `Phi`"
   ]
  },
  {
   "cell_type": "code",
   "execution_count": null,
   "metadata": {},
   "outputs": [],
   "source": []
  },
  {
   "cell_type": "markdown",
   "metadata": {},
   "source": [
    "You can play with different spaces. You can try for example shifted Gausianns or trygonometric polynomials."
   ]
  },
  {
   "cell_type": "code",
   "execution_count": null,
   "metadata": {},
   "outputs": [],
   "source": []
  }
 ],
 "metadata": {
  "kernelspec": {
   "display_name": "Python 3",
   "language": "python",
   "name": "python3"
  },
  "language_info": {
   "codemirror_mode": {
    "name": "ipython",
    "version": 3
   },
   "file_extension": ".py",
   "mimetype": "text/x-python",
   "name": "python",
   "nbconvert_exporter": "python",
   "pygments_lexer": "ipython3",
   "version": "3.7.3"
  }
 },
 "nbformat": 4,
 "nbformat_minor": 2
}
