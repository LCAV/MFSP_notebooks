{
 "cells": [
  {
   "cell_type": "code",
   "execution_count": null,
   "metadata": {},
   "outputs": [],
   "source": [
    "import numpy as np\n",
    "import matplotlib.pyplot as plt"
   ]
  },
  {
   "cell_type": "markdown",
   "metadata": {},
   "source": [
    "# Ortographic and oblique projections\n",
    "\n",
    "In this notebook you play with ortographic and oblique projections using non-orthogonal basis. \n",
    "In the first part you will find a best approximation of a Gaussian function $x$ using symmetric trygonometric polynomials (powers of $\\cos(t)$) via ortographic projection.\n",
    "\n",
    "In the second part you will calculate an oblique projection using different two different bases. \n",
    "\n",
    "## Orographic projection\n",
    "\n",
    "We generated for you both the function and the basis $\\Phi$ of the subspace of powers of $\\cos(t)$ of dimension `dimension_phi` that you can change and play with. Run the code below to visualise them.\n",
    "\n",
    "You can also change $x$ to different functions."
   ]
  },
  {
   "cell_type": "code",
   "execution_count": null,
   "metadata": {},
   "outputs": [],
   "source": [
    "t = np.linspace(-np.pi, np.pi, 900)\n",
    "step_size = 2 / t.size\n",
    "x = np.exp(-3*t**2)\n",
    "plt.plot(t, x, label='$x(t)$')\n",
    "plt.legend()\n",
    "plt.show()"
   ]
  },
  {
   "cell_type": "code",
   "execution_count": null,
   "metadata": {},
   "outputs": [],
   "source": [
    "dimension_phi = 4\n",
    "Phi = np.stack([np.cos(t)**k for k in range(dimension_phi)], axis=-1)\n",
    "\n",
    "for k in range(dimension_phi):\n",
    "    plt.plot(t, Phi[:,k], label=f'$\\\\phi_{k}$')\n",
    "plt.gca().axhline(c=\"k\", linewidth=1)\n",
    "plt.legend()\n",
    "plt.show()"
   ]
  },
  {
   "cell_type": "markdown",
   "metadata": {},
   "source": [
    "To calculate the best approximation, we will find the ortogonal projection of $x$ into the subspace.\n",
    "First, fill in the code bellow to calculate the Gramian. What is the `step_size` for? Are the elements of $\\Phi$ orthogonal?"
   ]
  },
  {
   "cell_type": "code",
   "execution_count": null,
   "metadata": {},
   "outputs": [],
   "source": [
    "Gram = step_size * ...\n",
    "\n",
    "plt.imshow(Gram)\n",
    "plt.colorbar()\n",
    "plt.show()"
   ]
  },
  {
   "cell_type": "markdown",
   "metadata": {},
   "source": [
    "Now you can use the theorem about Orthogonal Projection Onto a Subspace to from $\\Phi$ an orthogonal projection $P_s$.\n",
    "\n",
    "Fill in the code below to calculate and plot the projection of $x$ onto trygonometric polynomials $P_S x$. Calculate and plot the coefficents $a_k$ representing $\\Phi x$ in the basis $\\Phi$."
   ]
  },
  {
   "cell_type": "code",
   "execution_count": null,
   "metadata": {},
   "outputs": [],
   "source": [
    "basis_coeffients = ...\n",
    "projection = ...\n",
    "\n",
    "plt.plot(t, x, label='$x$')\n",
    "plt.plot(t, x - projection, label='$x-P_S x$')\n",
    "plt.plot(t, projection, label='$P_S x$')\n",
    "plt.legend()\n",
    "plt.gca().axhline(c=\"k\", linewidth=1)\n",
    "plt.show()"
   ]
  },
  {
   "cell_type": "markdown",
   "metadata": {},
   "source": [
    "You can plot basis coefficients $a_k$ or can also plot each basis component of $x$ separately:"
   ]
  },
  {
   "cell_type": "code",
   "execution_count": null,
   "metadata": {},
   "outputs": [],
   "source": [
    "fig, (ax1, ax2) = plt.subplots(1, 2, figsize=(12, 4))\n",
    "\n",
    "for k in range(dimension_phi):\n",
    "    ax1.stem([k], [basis_coeffients[k]], label=f\"$a_{k}$\", markerfmt=f\"C{k}o\", linefmt=f\"C{k}-\")\n",
    "ax1.legend()\n",
    "ax1.axhline(c=\"k\", linewidth=1)\n",
    "\n",
    "for k in range(dimension_phi):\n",
    "    ax2.plot(t, basis_coeffients[k]*Phi[:, k], label=f\"$a_{k}\\\\Phi_{k}$\")\n",
    "ax2.legend()\n",
    "ax2.axhline(c=\"k\", linewidth=1)\n",
    "plt.show()"
   ]
  },
  {
   "cell_type": "markdown",
   "metadata": {},
   "source": [
    "## Oblique projection\n",
    "Now we will consider a situation when we have two different, non orthogonal basis. \n",
    "\n",
    "Lets keep basis $\\Phi$ for the analysis, but project into space of shifted Gaussians of dimension `dimension_psi`. The basis $\\Psi$ of this space is generated for you below:"
   ]
  },
  {
   "cell_type": "code",
   "execution_count": null,
   "metadata": {},
   "outputs": [],
   "source": [
    "dimension_psi = 6\n",
    "shifts = np.linspace(-np.pi/2, np.pi/2, 10)\n",
    "Psi = np.exp(-(t[:,None]-shifts[None,:])**2/0.4)\n",
    "\n",
    "for k in range(dimension_psi):\n",
    "    plt.plot(t, Psi[:,k], label=f'$\\\\psi_{k}$')\n",
    "plt.gca().axhline(c=\"k\", linewidth=1)\n",
    "plt.legend()\n",
    "plt.show()"
   ]
  },
  {
   "cell_type": "markdown",
   "metadata": {},
   "source": [
    "First, calculate generalised Gramian, $\\Phi^* \\Psi$. Are the of $\\Phi$ and $\\Psi$ biorthogonal?"
   ]
  },
  {
   "cell_type": "code",
   "execution_count": null,
   "metadata": {},
   "outputs": [],
   "source": [
    "Gram_gen = ...\n",
    "\n",
    "plt.imshow(Gram_gen)\n",
    "plt.colorbar()\n",
    "plt.show()"
   ]
  },
  {
   "cell_type": "markdown",
   "metadata": {},
   "source": [
    "Now you can use the theorem about General Oblique Projections to from projection on to the space of shifted Gaussians."
   ]
  },
  {
   "cell_type": "code",
   "execution_count": null,
   "metadata": {},
   "outputs": [],
   "source": [
    "...\n",
    "\n",
    "plt.plot(t, x, label='$x$')\n",
    "plt.plot(t, x - oblique_projection, label='$x-P_S x$')\n",
    "plt.plot(t, oblique_projection, label='$P_S x$')\n",
    "plt.legend()\n",
    "plt.gca().axhline(c=\"k\", linewidth=1)\n",
    "plt.show()"
   ]
  },
  {
   "cell_type": "code",
   "execution_count": null,
   "metadata": {},
   "outputs": [],
   "source": [
    "fig, (ax1, ax2) = plt.subplots(1, 2, figsize=(12, 4))\n",
    "\n",
    "for k in range(dimension_psi):\n",
    "    ax1.stem([k], [oblique_basis_coefficients[k]], label=f\"$a_{k}$\", markerfmt=f\"C{k}o\", linefmt=f\"C{k}-\")\n",
    "ax1.legend()\n",
    "ax1.axhline(c=\"k\", linewidth=1)\n",
    "\n",
    "for k in range(dimension_psi):\n",
    "    ax2.plot(t, oblique_basis_coefficients[k]*Psi[:, k], label=f\"$a_{k}\\\\Psi_{k}$\")\n",
    "ax2.legend()\n",
    "ax2.axhline(c=\"k\", linewidth=1)\n",
    "plt.show()"
   ]
  }
 ],
 "metadata": {
  "kernelspec": {
   "display_name": "Python 3",
   "language": "python",
   "name": "python3"
  },
  "language_info": {
   "codemirror_mode": {
    "name": "ipython",
    "version": 3
   },
   "file_extension": ".py",
   "mimetype": "text/x-python",
   "name": "python",
   "nbconvert_exporter": "python",
   "pygments_lexer": "ipython3",
   "version": "3.7.3"
  }
 },
 "nbformat": 4,
 "nbformat_minor": 2
}
