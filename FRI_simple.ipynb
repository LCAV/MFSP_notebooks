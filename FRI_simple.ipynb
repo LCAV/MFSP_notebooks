{
 "cells": [
  {
   "cell_type": "code",
   "execution_count": null,
   "metadata": {
    "colab": {},
    "colab_type": "code",
    "id": "HKPW70rjEmws"
   },
   "outputs": [],
   "source": [
    "import numpy as np\n",
    "import numpy.random as nr\n",
    "import matplotlib.pyplot as plt\n",
    "np.set_printoptions(precision=3)"
   ]
  },
  {
   "cell_type": "markdown",
   "metadata": {
    "colab_type": "text",
    "id": "DUlJH_CAEmw5"
   },
   "source": [
    "# Annihilating filter method\n",
    "\n",
    "### Signal preparation\n",
    "\n",
    "Here we generate samples of the Fourier Transform of a stream of diraces, or alternatively signal \\\\(x\\\\) with three distinct frequecies."
   ]
  },
  {
   "cell_type": "code",
   "execution_count": null,
   "metadata": {
    "colab": {},
    "colab_type": "code",
    "id": "3_niXCMqEmw8"
   },
   "outputs": [],
   "source": [
    "M = 20\n",
    "a = np.array([1, 2, 3])\n",
    "K = len(a)\n",
    "f = np.array([0.2, 0.3, 0.4])\n",
    "theta = nr.uniform(0, 2 * np.pi)\n",
    "n = np.arange(0, M)\n",
    "x = np.exp(1j * (2 * np.pi * (n[:, None] @ f[None, :]) + theta)) @ a.T"
   ]
  },
  {
   "cell_type": "markdown",
   "metadata": {
    "colab_type": "text",
    "id": "1cCbkyAvEmxC"
   },
   "source": [
    "Add noise to the signal. \n",
    "Try running AFM with no noise and with noise standard deviations 0.1, 1 and 2. "
   ]
  },
  {
   "cell_type": "code",
   "execution_count": null,
   "metadata": {
    "colab": {},
    "colab_type": "code",
    "id": "4G_Z5vE_EmxE"
   },
   "outputs": [],
   "source": [
    "sigma = 0\n",
    "y = ..."
   ]
  },
  {
   "cell_type": "code",
   "execution_count": null,
   "metadata": {
    "colab": {
     "base_uri": "https://localhost:8080/",
     "height": 265
    },
    "colab_type": "code",
    "id": "GeAIj8teEmxH",
    "outputId": "cd0dcb58-cb6a-4bc1-9be4-686f21f1d5c9"
   },
   "outputs": [],
   "source": [
    "plt.plot(np.real(x), label=\"original signal\")\n",
    "plt.plot(np.real(y), label=\"noisy measurements\")\n",
    "plt.legend()\n",
    "plt.show()"
   ]
  },
  {
   "cell_type": "markdown",
   "metadata": {
    "colab_type": "text",
    "id": "zIaquqYdEmxP"
   },
   "source": [
    "### Recovery \n",
    "\n",
    "Your job is now to find the annihilating filter \\\\(h\\\\). One way to enforce that \\\\(h\\not\\equiv0\\\\) is by setting \\\\(h_0 = 1\\\\), because we are only interested in zeros of the filter, and the magniture does not matter. \n",
    "\n",
    "Write the annihilating equation in this case, and create the toeplitz matrix using only around 2K measurements, discarding the rest:"
   ]
  },
  {
   "cell_type": "code",
   "execution_count": null,
   "metadata": {
    "colab": {},
    "colab_type": "code",
    "id": "JeHaLuDcEmxQ"
   },
   "outputs": [],
   "source": [
    "A = np.zeros((K, K), dtype=complex)\n",
    "for i in range(K):\n",
    "    A[:,i] = ...\n",
    "b = -y[K : 2 * K]"
   ]
  },
  {
   "cell_type": "markdown",
   "metadata": {
    "colab_type": "text",
    "id": "W4SdLUgHEmxU"
   },
   "source": [
    "Solve the system of equations for annihiliating filter $h$ (do not forget the first coefficient equal to 1)."
   ]
  },
  {
   "cell_type": "code",
   "execution_count": null,
   "metadata": {},
   "outputs": [],
   "source": [
    "h = ..."
   ]
  },
  {
   "cell_type": "markdown",
   "metadata": {},
   "source": [
    "Then find roots of the polynomial given it's coeficients,\n",
    "and find a phase (or angle) of the roots. You may want to use `np.roots`."
   ]
  },
  {
   "cell_type": "code",
   "execution_count": null,
   "metadata": {
    "colab": {
     "base_uri": "https://localhost:8080/",
     "height": 52
    },
    "colab_type": "code",
    "id": "gu7Q-PohEmxV",
    "outputId": "f74e1574-783e-4348-f72a-627dda3be4d8"
   },
   "outputs": [],
   "source": [
    "r = ...\n",
    "print(\"Absolue values of the roots: {}\".format(np.abs(r)))\n",
    "estimated_f = ...\n",
    "print(\"Estimated frequencies: {}\".format(estimated_f/(2 * np.pi) % 1))"
   ]
  },
  {
   "cell_type": "markdown",
   "metadata": {
    "colab": {},
    "colab_type": "code",
    "id": "3J9gxCt3xHyy"
   },
   "source": [
    "We would like the roots of the polynomial to have the absolute value 1. \n",
    "Is it always the case?"
   ]
  }
 ],
 "metadata": {
  "colab": {
   "collapsed_sections": [],
   "name": "FRI-simple.ipynb",
   "provenance": []
  },
  "kernelspec": {
   "display_name": "Python 3",
   "language": "python",
   "name": "python3"
  },
  "language_info": {
   "codemirror_mode": {
    "name": "ipython",
    "version": 3
   },
   "file_extension": ".py",
   "mimetype": "text/x-python",
   "name": "python",
   "nbconvert_exporter": "python",
   "pygments_lexer": "ipython3",
   "version": "3.8.5"
  }
 },
 "nbformat": 4,
 "nbformat_minor": 1
}
